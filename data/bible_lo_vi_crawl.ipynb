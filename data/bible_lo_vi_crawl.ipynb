{
  "nbformat": 4,
  "nbformat_minor": 0,
  "metadata": {
    "colab": {
      "provenance": []
    },
    "kernelspec": {
      "name": "python3",
      "display_name": "Python 3"
    },
    "language_info": {
      "name": "python"
    }
  },
  "cells": [
    {
      "cell_type": "code",
      "source": [
        "from bs4 import BeautifulSoup\n",
        "import requests\n",
        "\n",
        "url = 'https://laobible.net/bible1/Matthew1.html'\n",
        "\n",
        "page = requests.get(url)\n",
        "\n",
        "soup = BeautifulSoup(page.content, 'html')\n",
        "\n",
        "print(type(soup))\n",
        "print(soup.prettify())"
      ],
      "metadata": {
        "id": "LlfS0f6GP-01"
      },
      "execution_count": null,
      "outputs": []
    },
    {
      "cell_type": "code",
      "source": [
        "listTags = soup.find_all(class_ = [\"heading\", \"narrative\"])\n",
        "listTags"
      ],
      "metadata": {
        "id": "f-i9W7H4o4BX"
      },
      "execution_count": null,
      "outputs": []
    },
    {
      "cell_type": "code",
      "source": [
        "content = [tag.text for tag in listTags]\n",
        "print(content)"
      ],
      "metadata": {
        "id": "0bKsi_GFq0Bb",
        "colab": {
          "base_uri": "https://localhost:8080/"
        },
        "outputId": "6070ebae-2e4f-4972-8068-8327ad6575a9"
      },
      "execution_count": null,
      "outputs": [
        {
          "output_type": "stream",
          "name": "stdout",
          "text": [
            "['ລຳ\\u200cດັບ\\u200bເຊື້ອ\\u200bວົງ\\u200bຂອງ\\u200bພຣະ\\xadເຢ\\xadຊູຄ\\xadຣິດ', '1ໜັງ\\xadສື\\u200bລຳ\\u200cດັບ\\u200bເຊື້ອ\\u200bວົງ\\u200bຂອງ\\u200bພຣະ\\xadເຢ\\xadຊູຄ\\xadຣິດ ຜູ້\\u200bເປັນ\\u200bເຊື້ອ\\u200cສາຍ\\u200bຂອງ\\u200bດາ\\xadວິດ ຜູ້\\u200bສືບ\\u200bກະ\\u200cກູນ\\u200bເນື່ອງ\\u200bມາ\\u200bຈາກ\\u200bອັບ\\xadຣາ\\xadຮາມ.', '2ອັບ\\xadຣາ\\xadຮາມ\\u200bມີ\\u200bບຸດ\\u200cຊາຍ\\u200bຊື່\\u200bອີ\\xadຊາກ ອີ\\xadຊາກ\\u200bມີ\\u200bບຸດ\\u200cຊາຍ\\u200bຊື່\\u200bຢາ\\xadໂຄບ ຢາ\\xadໂຄບ\\u200bມີ\\u200bບຸດ\\u200cຊາຍ\\u200bຊື່\\u200bຢູ\\xadດາ ແລະ\\u200bອ້າຍ\\u200bນ້ອງ\\u200bຂອງຕົນ.3ຢູ\\xadດາ\\u200bມີ\\u200bບຸດ\\u200cຊາຍ\\u200bຊື່\\u200bເປ\\xadເຣັດ\\u200bແລະ\\u200bເຊ\\xadຣາ ເກີດ\\u200bຈາກ\\u200bນາງ\\u200bຕາ\\xadມາ ເປ\\xadເຣັດ\\u200bມີ\\u200bບຸດ\\u200cຊາຍ\\u200bຊື່\\u200bເຮັດ\\xadຊະ\\xadໂຣນ, ເຮັດ\\xadຊະ\\xadໂຣນ\\u200bມີ\\u200bບຸດ\\u200cຊາຍ\\u200bຊື່\\u200bຣາມ.4ຣາມ\\u200bມີ\\u200bບຸດ\\u200cຊາຍ\\u200bຊື່\\u200bອຳ\\xadມີ\\xadນາ\\xadດາບ ອຳ\\xadມີ\\xadນາ\\xadດາບ\\u200bມີ\\u200bບຸດ\\u200cຊາຍ\\u200bຊື່\\u200bນາ\\xadໂຊນ ນາ\\xadໂຊນ\\u200bມີ\\u200bບຸດ\\u200cຊາຍ\\u200bຊື່\\u200bຊັນ\\xadໂມນ.5ຊັນ\\xadໂມນ\\u200bມີ\\u200bບຸດ\\u200cຊາຍ\\u200bຊື່\\u200bໂບ\\xadອາດ ເກີດ\\u200bຈາກ\\u200bນາງ\\u200bຣາ\\xadຮາບ ໂບ\\xadອາດ\\u200bມີ\\u200bບຸດ\\u200cຊາຍ\\u200bຊື່\\u200bໂອ\\xadເບັດ ເກີດ\\u200bຈາກ\\u200bນາງ\\xadຣຸດ ໂອ\\xadເບັດ\\u200bມີ\\u200bບຸດ\\u200cຊາຍ\\u200bຊື່\\u200bເຢ\\xadຊາຍ.6ເຢ\\xadຊາຍ\\u200bມີ\\u200bບຸດ\\u200cຊາຍ\\u200bຊື່\\u200bດາ\\xadວິດ ຜູ້\\u200bຊົງ\\u200bເປັນ\\u200bກະສັດ.', 'ກະ\\xadສັດ\\u200bດາ\\xadວິດ\\u200bຊົງ\\u200bມີ\\u200bບຸດ\\u200cຊາຍ\\u200bຊື່\\u200bໂຊ\\xadໂລ\\xadໂມນ ຊົງ\\u200bເກີດ\\u200bຈາກ\\u200bນາງ\\u200bຊຶ່ງ\\u200bແຕ່\\u200cກ່ອນ\\u200bເປັນ\\u200bພັນ\\u200cລະ\\u200cຍາ\\u200bຂອງ\\u200bອູ\\xadຣີ\\xadຢາ.7ກະ\\xadສັດ\\u200bໂຊ\\xadໂລ\\xadໂມນ\\u200bຊົງ\\u200bມີ\\u200bບຸດ\\u200cຊາຍ\\u200bຊື່\\u200bເຣ\\xadໂຮ\\xadໂບ\\xadອາມ ເຣ\\xadໂຮ\\xadໂບ\\xadອາມ\\u200bມີ\\u200bບຸດ\\u200cຊາຍ\\u200bຊື່\\u200bອາ\\xadບີ\\xadຢາ ອາ\\xadບີ\\xadຢາ\\u200bມີ\\u200bບຸດ\\u200cຊາຍ\\u200bຊື່\\u200bອາ\\xadຊາ.8ອາ\\xadຊາ\\u200bມີ\\u200bບຸດ\\u200cຊາຍ\\u200bຊື່\\u200bເຢ\\xadໂຮ\\xadຊາ\\xadຟັດ ເຢ\\xadໂຮ\\xadຊາ\\xadຟັດ\\u200bມີ\\u200bບຸດ\\u200cຊາຍ\\u200bຊື່\\u200bໂຢ\\xadຣາມ ໂຢ\\xadຣາມ\\u200bມີ\\u200bບຸດ\\u200cຊາຍ\\u200bຊື່\\u200bອຸດ\\xadຊີ\\xadຢາ.9ອຸດ\\xadຊີ\\xadຢາ\\u200bມີ\\u200bບຸດ\\u200cຊາຍ\\u200bຊື່\\u200bໂຢ\\xadທາມ ໂຢ\\xadທາມ\\u200bມີ\\u200bບຸດ\\u200cຊາຍ\\u200bຊື່\\u200bອາ\\xadຮາດ ອາ\\xadຮາດ\\u200bມີ\\u200bບຸດ\\u200cຊາຍ\\u200bຊື່\\u200bເຮ\\xadເຊ\\xadກີ\\xadຢາ.10ເຮ\\xadເຊ\\xadກີ\\xadຢາ\\u200bມີ\\u200bບຸດ\\u200cຊາຍ\\u200bຊື່\\u200bມາ\\xadນາ\\xadເຊ ມາ\\xadນາ\\xadເຊ\\u200bມີ\\u200bບຸດ\\u200cຊາຍ\\u200bຊື່\\u200bອາ\\xadໂມນ ອາ\\xadໂມນ\\u200bມີ\\u200bບຸດ\\u200cຊາຍ\\u200bຊື່\\u200bໂຢ\\xadຊີ\\xadຢາ.11ໂຢ\\xadຊີ\\xadຢາ\\u200bມີ\\u200bບຸດ\\u200cຊາຍ\\u200bຊື່\\u200bເຢ\\xadໂຮ\\xadຢາ\\xadກິນ ກັບ\\u200bພວກ\\u200bອ້າຍ\\u200bນ້ອງ\\u200bຂອງ\\u200cຕົນ ເກີດ\\u200bໃນ\\u200bເວ\\u200cລາ\\u200bຖືກ\\u200bກວາດ\\u200bໄປ\\u200bຍັງ\\u200bກຸງ\\xadບາ\\xadບີ\\xadໂລນ.', '12ຄັນ\\u200bຖືກ\\u200bກວາດ\\u200bໄປ\\u200bຍັງ\\u200bກຸງ\\xadບາ\\xadບີ\\xadໂລນ\\u200bແລ້ວ ເຢ\\xadໂຮ\\xadຢາ\\xadກິນ\\u200bກໍ\\u200bມີ\\u200bບຸດ\\u200cຊາຍ\\u200bຊື່\\u200bເຊ\\xadອານ\\xadຕີ\\xadເອນ ເຊ\\xadອານ\\xadຕີ\\xadເອນ\\u200bມີ\\u200bບຸດ\\u200cຊາຍ\\u200bຊື່ ເຊ\\xadຣຸບ\\xadບາ\\xadເບນ.13ເຊ\\xadຣຸບ\\xadບາ\\xadເບນ\\u200bມີ\\u200bບຸດ\\u200cຊາຍ\\u200bຊື່\\u200bອາ\\xadບີ\\xadອຸດ ອາ\\xadບີ\\xadອຸດ\\u200bມີ\\u200bບຸດ\\u200cຊາຍ\\u200bຊື່\\u200bເອ\\xadລີ\\xadຢາ\\xadກິມ ເອ\\xadລີ\\xadຢາ\\xadກິມ\\u200bມີ\\u200bບຸດ\\u200cຊາຍ\\u200bຊື່\\u200bອາ\\xadໂຊ.14ອາ\\xadໂຊ\\u200bມີ\\u200bບຸດ\\u200cຊາຍ\\u200bຊື່\\u200bຊາ\\xadໂດກ ຊາ\\xadໂດກ\\u200bມີ\\u200bບຸດ\\u200cຊາຍ\\u200bຊື່\\u200bອາ\\xadຂີມ ອາ\\xadຂີມ\\u200bມີ\\u200bບຸດ\\u200cຊາຍ\\u200bຊື່\\u200bເອ\\xadລີ\\xadອູດ.15ເອ\\xadລີ\\xadອູດ\\u200bມີ\\u200bບຸດ\\u200cຊາຍ\\u200bຊື່\\u200bເອ\\xadເລ\\xadອາ\\xadຊາ ເອ\\xadເລ\\xadອາ\\xadຊາ\\u200bມີ\\u200bບຸດ\\u200cຊາຍ\\u200bຊື່\\u200bມັດ\\xadທານ ມັດ\\xadທານ\\u200bມີ\\u200bບຸດ\\u200cຊາຍ\\u200bຊື່\\u200bຢາໂຄບ.16ຢາ\\xadໂຄບ\\u200bມີ\\u200bບຸດ\\u200cຊາຍ\\u200bຊື່\\u200bໂຢ\\xadເຊັບ ຜູ້\\u200bເປັນ\\u200bສາ\\u200cມີ\\u200bຂອງ\\u200bນາງ\\u200bມາ\\xadຣິ\\xadອາ ພຣະ\\u200cເຢຊູ\\u200bຜູ້\\u200bທີ່\\u200bເອີ້ນ\\u200cວ່າ\\u200bພຣະ\\u200cຄຣິດ ກໍ\\u200bຊົງ\\u200bບັງ\\u200cເກີດ\\u200bມາ\\u200bຈາກ\\u200bນາງ\\u200bມາ\\xadຣິ\\xadອາ\\u200bຜູ້\\u200bນີ້.', '17ດັ່ງ\\u200cນັ້ນ\\u200bນັບ\\u200bຕັ້ງ\\u200cແຕ່\\u200bອັບ\\xadຣາ\\xadຮາມ\\u200bລົງ\\u200cມາ\\u200bຈົນ\\u200bເຖິງ\\u200bກະ\\xadສັດ\\u200bດາ\\xadວິດ\\u200bຈິ່ງ\\u200bເປັນ\\u200bສິບ\\u200bສີ່\\u200bຊົ່ວ\\u200bຄົນ ນັບ\\u200bຕັ້ງ\\u200cແຕ່\\u200bກະ\\xadສັດ\\u200bດາ\\xadວິດ\\u200bຈົນ\\u200bເຖິງ\\u200bຄາວ\\u200bຖືກ\\u200bກວາດ\\u200bໄປ\\u200bຍັງ\\u200bກຸງ\\xadບາ\\xadບີ\\xadໂລນ ເປັນ\\u200bເວ\\u200cລາ\\u200bສິບ\\u200bສີ່\\u200bຊົ່ວ\\u200bຄົນ ແລະ\\u200bນັບ\\u200bຕັ້ງ\\u200cແຕ່\\u200bຄາວ\\u200bຖືກ\\u200bກວາດ\\u200bໄປ\\u200bຍັງ\\u200bກຸງ\\xadບາ\\xadບີ\\xadໂລນ\\u200bຈົນ\\u200bເຖິງ\\u200bພຣະ\\u200cຄຣິດ ເປັນ\\u200bເວ\\u200cລາ\\u200bສິບ\\u200bສີ່\\u200bຊົ່ວ\\u200bຄົນ.', 'ພຣະ\\u200cກຳເນີດ\\u200bຂອງ\\u200bພຣະ\\xadເຢ\\xadຊູຄ\\xadຣິດ', '18ເລື່ອງ\\u200bພຣະ\\u200cກຳເນີດ\\u200bຂອງ\\u200bພຣະ\\xadເຢ\\xadຊູຄ\\xadຣິດ\\u200bເປັນ\\u200bດັ່ງ\\u200cນີ້: ຄື\\u200bນາງ\\u200bມາ\\xadຣິ\\xadອາ\\u200bຜູ້\\u200bເປັນ\\u200bມານ\\u200cດາ\\u200bຂອງ\\u200bພຣະ\\u200cເຢຊູ\\u200bນັ້ນ ໄດ້\\u200bເປັນ\\u200bຄູ່\\u200bໝັ້ນ\\u200bກັບ\\u200bໂຢ\\xadເຊັບ\\u200bແລ້ວ ກ່ອນ\\u200bເວ\\u200cລາ\\u200bເຂົາ\\u200bໄດ້\\u200bເປັນ\\u200bຄູ່\\u200bຜົວ\\u200cເມຍ\\u200bກັນ\\u200bກໍ\\u200bປະ\\u200cກົດ\\u200bວ່າ ນາງ\\u200bມີ\\u200bທ້ອງ\\u200bແລ້ວ\\u200bດ້ວຍ\\u200bລິດ\\u200cເດດ\\u200bພຣະວິນຍານບໍລິສຸດ.19ຝ່າຍ\\u200bໂຢ\\xadເຊັບ\\u200bຜູ້\\u200bເປັນ\\u200bຄູ່\\u200bໝັ້ນ\\u200bຂອງ\\u200bນາງ\\u200bເປັນ\\u200bຄົນ\\u200bມີ\\u200bສິນ\\u200bທຳ ແຕ່\\u200bປານ\\u200bນັ້ນ\\u200bເພິ່ນ\\u200bບໍ່\\u200cຢາກ\\u200bໃຫ້\\u200bເລື່ອງ\\u200bນີ້\\u200bເປັນ\\u200bທີ່\\u200bອັບອາຍ\\u200cຂາຍໜ້າ\\u200bແກ່\\u200bນາງ ຈິ່ງ\\u200bຕັດ\\u200bສີນ\\u200bໃຈ\\u200bວ່າ\\u200bຈະ\\u200bຖອນ\\u200cໝັ້ນ\\u200bເສຍ\\u200bຢ່າງ\\u200bລັບໆ.20ແຕ່\\u200bເມື່ອ\\u200bໂຢ\\xadເຊັບ\\u200bຍັງ\\u200bຄຶດ\\u200bໃນ\\u200bເລື່ອງ\\u200bນີ້\\u200bຢູ່ ກໍ\\u200bມີ\\u200bເທ\\xadວະ\\xadດາ\\u200bຕົນ\\u200bໜຶ່ງ\\u200bຂອງ\\u200bພຣະຜູ້\\u200cເປັນ\\u200cເຈົ້າ\\u200bມາ\\u200bປະ\\u200cກົດ\\u200bແກ່\\u200bໂຢ\\xadເຊັບ\\u200bໃນ\\u200bຄວາມ\\xadຝັນ\\u200bວ່າ, “ໂຢ\\xadເຊັບ\\u200bບຸດ\\u200bດາ\\xadວິດ\\u200bເອີຍ, ຢ່າຊູ່\\u200cຢ້ານ\\u200bທີ່\\u200bຈະ\\u200bຮັບ\\u200bນາງ\\u200bມາ\\xadຣິ\\xadອາ\\u200bມາ\\u200bເປັນ\\u200bເມຍ\\u200bຂອງ\\u200bເຈົ້າ ເພາະ\\u200bວ່າ\\u200bຜູ້\\u200bຊຶ່ງ\\u200bປະຕິ\\u200cສົນທິ\\u200bໃນ\\u200bທ້ອງ\\u200bຂອງ\\u200bນາງ\\u200bກໍ\\u200bເປັນ\\u200bໂດຍ\\u200bເດດ\\u200bພຣະວິນຍານບໍລິສຸດ.21ນາງ\\u200bຈະ\\u200bປະ\\u200cສູດ\\u200bບຸດ ແລ້ວ\\u200bເຈົ້າ\\u200bຈົ່ງ\\u200bຖວາຍ\\u200bນາມ\\u200bທ່ານ\\u200bວ່າ ‘ເຢຊູ’ ເພາະ\\u200bວ່າ\\u200bທ່ານ\\u200bຜູ້\\u200bນີ້\\u200cແຫລະ, ຈະ\\u200bເປັນ\\u200bຜູ້\\u200cໂຜດ\\u200bໄພ່\\u200cພົນ\\u200bຂອງ\\u200cຕົນ\\u200bໃຫ້\\u200bລອດ\\u200cພົ້ນ\\u200bຈາກ\\u200bຄວາມ\\u200bຜິດ\\u200cບາບ\\u200bຂອງ\\u200bເຂົາ.”22ການ\\u200bທັງ\\u200cປວງ\\u200bນີ້\\u200bເກີດ\\u200bຂຶ້ນ\\u200bເພື່ອ\\u200cຈະ\\u200bໃຫ້\\u200bສຳ\\u200cເລັດ ຕາມ\\u200bທີ່\\u200bພຣະຜູ້\\u200cເປັນ\\u200cເຈົ້າ\\u200bໄດ້\\u200bຊົງ\\u200bກ່າວ\\u200bໄວ້\\u200bດ້ວຍ\\u200bຜູ້ປະກາດ\\u200cພຣະທຳ\\u200bວ່າ.23“ເບິ່ງ\\u200bແມ, ຍິງ\\u200bພົມ\\u200bຈະ\\u200bລີ\\u200bນັ້ນ\\u200bຈະ\\u200bມີ\\u200bທ້ອງ\\u200bແລະ\\u200bປະ\\u200cສູດ\\u200bບຸດ\\u200bຄົນ\\u200bໜຶ່ງ, ແລະ\\u200bເຂົາ\\u200bຈະ\\u200bເອີ້ນ\\u200bຊື່\\u200bບຸດ\\u200bນັ້ນ\\u200bວ່າ ‘ເອ\\xadມາ\\xadນູ\\xadເອນ’” (ແປ\\u200bວ່າ “ພຣະ\\xadເຈົ້າ\\u200bຊົງ\\u200bສະ\\u200cຖິດ\\u200bຢູ່\\u200bກັບ\\u200bເຮົາ\\u200bທັງ\\u200cຫລາຍ”).24ເມື່ອ\\u200bໂຢ\\xadເຊັບ\\u200bຕື່ນ\\u200bຂຶ້ນ\\u200bກໍ\\u200bເຮັດ\\u200bຕາມ\\u200bຄຳ\\u200bທີ່\\u200bເທ\\xadວະ\\xadດາ\\u200bຂອງ\\u200bພຣະຜູ້\\u200cເປັນ\\u200cເຈົ້າ\\u200bສັ່ງ\\u200bນັ້ນ ຄື\\u200bຮັບ\\u200bເອົາ\\u200bນາງ\\u200bມາ\\xadຣິ\\xadອາ\\u200bມາ\\u200bເປັນ\\u200bພັນ\\u200cລະ\\u200cຍາ\\u200bຂອງຕົນ.25ແຕ່\\u200bບໍ່\\u200cໄດ້\\u200bສົມ\\u200cສູ່\\u200bຢູ່\\u200bກັບ\\u200bນາງ\\u200bຈົນ\\u200bປະ\\u200cສູດ\\u200bບຸດ\\u200cຊາຍ\\u200bແລ້ວ ແລະ\\u200bໂຢ\\xadເຊັບ\\u200bໄດ້\\u200bເອີ້ນ\\u200bຊື່\\u200bບຸດ\\u200bນັ້ນ\\u200bວ່າ “ເຢຊູ”.']\n"
          ]
        }
      ]
    },
    {
      "cell_type": "code",
      "source": [
        "import re\n",
        "lo = []\n",
        "for line in content:\n",
        "    line = line.replace('\\xad', '')\n",
        "    line = line.replace('\\u200b', ' ')\n",
        "    line = line.replace('\\u200c', ' ')\n",
        "    # Sử dụng regex để chèn dấu xuống dòng trước số\n",
        "    modified_line = re.sub(r'(\\D)(\\d)', r'\\1\\n\\2', line)\n",
        "    print(modified_line)\n",
        "    for sent in modified_line.splitlines():\n",
        "        lo.append(sent)"
      ],
      "metadata": {
        "id": "F5Ydqeuo0f55",
        "colab": {
          "base_uri": "https://localhost:8080/"
        },
        "outputId": "d5fd15d7-53ad-4d13-83ea-be753fb05b55"
      },
      "execution_count": null,
      "outputs": [
        {
          "output_type": "stream",
          "name": "stdout",
          "text": [
            "ລຳ ດັບ ເຊື້ອ ວົງ ຂອງ ພຣະເຢຊູຄຣິດ\n",
            "1ໜັງສື ລຳ ດັບ ເຊື້ອ ວົງ ຂອງ ພຣະເຢຊູຄຣິດ ຜູ້ ເປັນ ເຊື້ອ ສາຍ ຂອງ ດາວິດ ຜູ້ ສືບ ກະ ກູນ ເນື່ອງ ມາ ຈາກ ອັບຣາຮາມ.\n",
            "2ອັບຣາຮາມ ມີ ບຸດ ຊາຍ ຊື່ ອີຊາກ ອີຊາກ ມີ ບຸດ ຊາຍ ຊື່ ຢາໂຄບ ຢາໂຄບ ມີ ບຸດ ຊາຍ ຊື່ ຢູດາ ແລະ ອ້າຍ ນ້ອງ ຂອງຕົນ.\n",
            "3ຢູດາ ມີ ບຸດ ຊາຍ ຊື່ ເປເຣັດ ແລະ ເຊຣາ ເກີດ ຈາກ ນາງ ຕາມາ ເປເຣັດ ມີ ບຸດ ຊາຍ ຊື່ ເຮັດຊະໂຣນ, ເຮັດຊະໂຣນ ມີ ບຸດ ຊາຍ ຊື່ ຣາມ.\n",
            "4ຣາມ ມີ ບຸດ ຊາຍ ຊື່ ອຳມີນາດາບ ອຳມີນາດາບ ມີ ບຸດ ຊາຍ ຊື່ ນາໂຊນ ນາໂຊນ ມີ ບຸດ ຊາຍ ຊື່ ຊັນໂມນ.\n",
            "5ຊັນໂມນ ມີ ບຸດ ຊາຍ ຊື່ ໂບອາດ ເກີດ ຈາກ ນາງ ຣາຮາບ ໂບອາດ ມີ ບຸດ ຊາຍ ຊື່ ໂອເບັດ ເກີດ ຈາກ ນາງຣຸດ ໂອເບັດ ມີ ບຸດ ຊາຍ ຊື່ ເຢຊາຍ.\n",
            "6ເຢຊາຍ ມີ ບຸດ ຊາຍ ຊື່ ດາວິດ ຜູ້ ຊົງ ເປັນ ກະສັດ.\n",
            "ກະສັດ ດາວິດ ຊົງ ມີ ບຸດ ຊາຍ ຊື່ ໂຊໂລໂມນ ຊົງ ເກີດ ຈາກ ນາງ ຊຶ່ງ ແຕ່ ກ່ອນ ເປັນ ພັນ ລະ ຍາ ຂອງ ອູຣີຢາ.\n",
            "7ກະສັດ ໂຊໂລໂມນ ຊົງ ມີ ບຸດ ຊາຍ ຊື່ ເຣໂຮໂບອາມ ເຣໂຮໂບອາມ ມີ ບຸດ ຊາຍ ຊື່ ອາບີຢາ ອາບີຢາ ມີ ບຸດ ຊາຍ ຊື່ ອາຊາ.\n",
            "8ອາຊາ ມີ ບຸດ ຊາຍ ຊື່ ເຢໂຮຊາຟັດ ເຢໂຮຊາຟັດ ມີ ບຸດ ຊາຍ ຊື່ ໂຢຣາມ ໂຢຣາມ ມີ ບຸດ ຊາຍ ຊື່ ອຸດຊີຢາ.\n",
            "9ອຸດຊີຢາ ມີ ບຸດ ຊາຍ ຊື່ ໂຢທາມ ໂຢທາມ ມີ ບຸດ ຊາຍ ຊື່ ອາຮາດ ອາຮາດ ມີ ບຸດ ຊາຍ ຊື່ ເຮເຊກີຢາ.\n",
            "10ເຮເຊກີຢາ ມີ ບຸດ ຊາຍ ຊື່ ມານາເຊ ມານາເຊ ມີ ບຸດ ຊາຍ ຊື່ ອາໂມນ ອາໂມນ ມີ ບຸດ ຊາຍ ຊື່ ໂຢຊີຢາ.\n",
            "11ໂຢຊີຢາ ມີ ບຸດ ຊາຍ ຊື່ ເຢໂຮຢາກິນ ກັບ ພວກ ອ້າຍ ນ້ອງ ຂອງ ຕົນ ເກີດ ໃນ ເວ ລາ ຖືກ ກວາດ ໄປ ຍັງ ກຸງບາບີໂລນ.\n",
            "12ຄັນ ຖືກ ກວາດ ໄປ ຍັງ ກຸງບາບີໂລນ ແລ້ວ ເຢໂຮຢາກິນ ກໍ ມີ ບຸດ ຊາຍ ຊື່ ເຊອານຕີເອນ ເຊອານຕີເອນ ມີ ບຸດ ຊາຍ ຊື່ ເຊຣຸບບາເບນ.\n",
            "13ເຊຣຸບບາເບນ ມີ ບຸດ ຊາຍ ຊື່ ອາບີອຸດ ອາບີອຸດ ມີ ບຸດ ຊາຍ ຊື່ ເອລີຢາກິມ ເອລີຢາກິມ ມີ ບຸດ ຊາຍ ຊື່ ອາໂຊ.\n",
            "14ອາໂຊ ມີ ບຸດ ຊາຍ ຊື່ ຊາໂດກ ຊາໂດກ ມີ ບຸດ ຊາຍ ຊື່ ອາຂີມ ອາຂີມ ມີ ບຸດ ຊາຍ ຊື່ ເອລີອູດ.\n",
            "15ເອລີອູດ ມີ ບຸດ ຊາຍ ຊື່ ເອເລອາຊາ ເອເລອາຊາ ມີ ບຸດ ຊາຍ ຊື່ ມັດທານ ມັດທານ ມີ ບຸດ ຊາຍ ຊື່ ຢາໂຄບ.\n",
            "16ຢາໂຄບ ມີ ບຸດ ຊາຍ ຊື່ ໂຢເຊັບ ຜູ້ ເປັນ ສາ ມີ ຂອງ ນາງ ມາຣິອາ ພຣະ ເຢຊູ ຜູ້ ທີ່ ເອີ້ນ ວ່າ ພຣະ ຄຣິດ ກໍ ຊົງ ບັງ ເກີດ ມາ ຈາກ ນາງ ມາຣິອາ ຜູ້ ນີ້.\n",
            "17ດັ່ງ ນັ້ນ ນັບ ຕັ້ງ ແຕ່ ອັບຣາຮາມ ລົງ ມາ ຈົນ ເຖິງ ກະສັດ ດາວິດ ຈິ່ງ ເປັນ ສິບ ສີ່ ຊົ່ວ ຄົນ ນັບ ຕັ້ງ ແຕ່ ກະສັດ ດາວິດ ຈົນ ເຖິງ ຄາວ ຖືກ ກວາດ ໄປ ຍັງ ກຸງບາບີໂລນ ເປັນ ເວ ລາ ສິບ ສີ່ ຊົ່ວ ຄົນ ແລະ ນັບ ຕັ້ງ ແຕ່ ຄາວ ຖືກ ກວາດ ໄປ ຍັງ ກຸງບາບີໂລນ ຈົນ ເຖິງ ພຣະ ຄຣິດ ເປັນ ເວ ລາ ສິບ ສີ່ ຊົ່ວ ຄົນ.\n",
            "ພຣະ ກຳເນີດ ຂອງ ພຣະເຢຊູຄຣິດ\n",
            "18ເລື່ອງ ພຣະ ກຳເນີດ ຂອງ ພຣະເຢຊູຄຣິດ ເປັນ ດັ່ງ ນີ້: ຄື ນາງ ມາຣິອາ ຜູ້ ເປັນ ມານ ດາ ຂອງ ພຣະ ເຢຊູ ນັ້ນ ໄດ້ ເປັນ ຄູ່ ໝັ້ນ ກັບ ໂຢເຊັບ ແລ້ວ ກ່ອນ ເວ ລາ ເຂົາ ໄດ້ ເປັນ ຄູ່ ຜົວ ເມຍ ກັນ ກໍ ປະ ກົດ ວ່າ ນາງ ມີ ທ້ອງ ແລ້ວ ດ້ວຍ ລິດ ເດດ ພຣະວິນຍານບໍລິສຸດ.\n",
            "19ຝ່າຍ ໂຢເຊັບ ຜູ້ ເປັນ ຄູ່ ໝັ້ນ ຂອງ ນາງ ເປັນ ຄົນ ມີ ສິນ ທຳ ແຕ່ ປານ ນັ້ນ ເພິ່ນ ບໍ່ ຢາກ ໃຫ້ ເລື່ອງ ນີ້ ເປັນ ທີ່ ອັບອາຍ ຂາຍໜ້າ ແກ່ ນາງ ຈິ່ງ ຕັດ ສີນ ໃຈ ວ່າ ຈະ ຖອນ ໝັ້ນ ເສຍ ຢ່າງ ລັບໆ.\n",
            "20ແຕ່ ເມື່ອ ໂຢເຊັບ ຍັງ ຄຶດ ໃນ ເລື່ອງ ນີ້ ຢູ່ ກໍ ມີ ເທວະດາ ຕົນ ໜຶ່ງ ຂອງ ພຣະຜູ້ ເປັນ ເຈົ້າ ມາ ປະ ກົດ ແກ່ ໂຢເຊັບ ໃນ ຄວາມຝັນ ວ່າ, “ໂຢເຊັບ ບຸດ ດາວິດ ເອີຍ, ຢ່າຊູ່ ຢ້ານ ທີ່ ຈະ ຮັບ ນາງ ມາຣິອາ ມາ ເປັນ ເມຍ ຂອງ ເຈົ້າ ເພາະ ວ່າ ຜູ້ ຊຶ່ງ ປະຕິ ສົນທິ ໃນ ທ້ອງ ຂອງ ນາງ ກໍ ເປັນ ໂດຍ ເດດ ພຣະວິນຍານບໍລິສຸດ.\n",
            "21ນາງ ຈະ ປະ ສູດ ບຸດ ແລ້ວ ເຈົ້າ ຈົ່ງ ຖວາຍ ນາມ ທ່ານ ວ່າ ‘ເຢຊູ’ ເພາະ ວ່າ ທ່ານ ຜູ້ ນີ້ ແຫລະ, ຈະ ເປັນ ຜູ້ ໂຜດ ໄພ່ ພົນ ຂອງ ຕົນ ໃຫ້ ລອດ ພົ້ນ ຈາກ ຄວາມ ຜິດ ບາບ ຂອງ ເຂົາ.”\n",
            "22ການ ທັງ ປວງ ນີ້ ເກີດ ຂຶ້ນ ເພື່ອ ຈະ ໃຫ້ ສຳ ເລັດ ຕາມ ທີ່ ພຣະຜູ້ ເປັນ ເຈົ້າ ໄດ້ ຊົງ ກ່າວ ໄວ້ ດ້ວຍ ຜູ້ປະກາດ ພຣະທຳ ວ່າ.\n",
            "23“ເບິ່ງ ແມ, ຍິງ ພົມ ຈະ ລີ ນັ້ນ ຈະ ມີ ທ້ອງ ແລະ ປະ ສູດ ບຸດ ຄົນ ໜຶ່ງ, ແລະ ເຂົາ ຈະ ເອີ້ນ ຊື່ ບຸດ ນັ້ນ ວ່າ ‘ເອມານູເອນ’” (ແປ ວ່າ “ພຣະເຈົ້າ ຊົງ ສະ ຖິດ ຢູ່ ກັບ ເຮົາ ທັງ ຫລາຍ”).\n",
            "24ເມື່ອ ໂຢເຊັບ ຕື່ນ ຂຶ້ນ ກໍ ເຮັດ ຕາມ ຄຳ ທີ່ ເທວະດາ ຂອງ ພຣະຜູ້ ເປັນ ເຈົ້າ ສັ່ງ ນັ້ນ ຄື ຮັບ ເອົາ ນາງ ມາຣິອາ ມາ ເປັນ ພັນ ລະ ຍາ ຂອງຕົນ.\n",
            "25ແຕ່ ບໍ່ ໄດ້ ສົມ ສູ່ ຢູ່ ກັບ ນາງ ຈົນ ປະ ສູດ ບຸດ ຊາຍ ແລ້ວ ແລະ ໂຢເຊັບ ໄດ້ ເອີ້ນ ຊື່ ບຸດ ນັ້ນ ວ່າ “ເຢຊູ”.\n"
          ]
        }
      ]
    },
    {
      "cell_type": "code",
      "source": [
        "mergeSentenceFromArr(lo)"
      ],
      "metadata": {
        "colab": {
          "base_uri": "https://localhost:8080/"
        },
        "id": "9bzTYAwllaU4",
        "outputId": "4c728161-9169-4f85-db47-f97710cc1633"
      },
      "execution_count": null,
      "outputs": [
        {
          "output_type": "execute_result",
          "data": {
            "text/plain": [
              "['ລຳ ດັບ ເຊື້ອ ວົງ ຂອງ ພຣະເຢຊູຄຣິດ',\n",
              " '1ໜັງສື ລຳ ດັບ ເຊື້ອ ວົງ ຂອງ ພຣະເຢຊູຄຣິດ ຜູ້ ເປັນ ເຊື້ອ ສາຍ ຂອງ ດາວິດ ຜູ້ ສືບ ກະ ກູນ ເນື່ອງ ມາ ຈາກ ອັບຣາຮາມ.',\n",
              " '2ອັບຣາຮາມ ມີ ບຸດ ຊາຍ ຊື່ ອີຊາກ ອີຊາກ ມີ ບຸດ ຊາຍ ຊື່ ຢາໂຄບ ຢາໂຄບ ມີ ບຸດ ຊາຍ ຊື່ ຢູດາ ແລະ ອ້າຍ ນ້ອງ ຂອງຕົນ.',\n",
              " '3ຢູດາ ມີ ບຸດ ຊາຍ ຊື່ ເປເຣັດ ແລະ ເຊຣາ ເກີດ ຈາກ ນາງ ຕາມາ ເປເຣັດ ມີ ບຸດ ຊາຍ ຊື່ ເຮັດຊະໂຣນ, ເຮັດຊະໂຣນ ມີ ບຸດ ຊາຍ ຊື່ ຣາມ.',\n",
              " '4ຣາມ ມີ ບຸດ ຊາຍ ຊື່ ອຳມີນາດາບ ອຳມີນາດາບ ມີ ບຸດ ຊາຍ ຊື່ ນາໂຊນ ນາໂຊນ ມີ ບຸດ ຊາຍ ຊື່ ຊັນໂມນ.',\n",
              " '5ຊັນໂມນ ມີ ບຸດ ຊາຍ ຊື່ ໂບອາດ ເກີດ ຈາກ ນາງ ຣາຮາບ ໂບອາດ ມີ ບຸດ ຊາຍ ຊື່ ໂອເບັດ ເກີດ ຈາກ ນາງຣຸດ ໂອເບັດ ມີ ບຸດ ຊາຍ ຊື່ ເຢຊາຍ.',\n",
              " '6ເຢຊາຍ ມີ ບຸດ ຊາຍ ຊື່ ດາວິດ ຜູ້ ຊົງ ເປັນ ກະສັດ.ກະສັດ ດາວິດ ຊົງ ມີ ບຸດ ຊາຍ ຊື່ ໂຊໂລໂມນ ຊົງ ເກີດ ຈາກ ນາງ ຊຶ່ງ ແຕ່ ກ່ອນ ເປັນ ພັນ ລະ ຍາ ຂອງ ອູຣີຢາ.',\n",
              " '7ກະສັດ ໂຊໂລໂມນ ຊົງ ມີ ບຸດ ຊາຍ ຊື່ ເຣໂຮໂບອາມ ເຣໂຮໂບອາມ ມີ ບຸດ ຊາຍ ຊື່ ອາບີຢາ ອາບີຢາ ມີ ບຸດ ຊາຍ ຊື່ ອາຊາ.',\n",
              " '8ອາຊາ ມີ ບຸດ ຊາຍ ຊື່ ເຢໂຮຊາຟັດ ເຢໂຮຊາຟັດ ມີ ບຸດ ຊາຍ ຊື່ ໂຢຣາມ ໂຢຣາມ ມີ ບຸດ ຊາຍ ຊື່ ອຸດຊີຢາ.',\n",
              " '9ອຸດຊີຢາ ມີ ບຸດ ຊາຍ ຊື່ ໂຢທາມ ໂຢທາມ ມີ ບຸດ ຊາຍ ຊື່ ອາຮາດ ອາຮາດ ມີ ບຸດ ຊາຍ ຊື່ ເຮເຊກີຢາ.',\n",
              " '10ເຮເຊກີຢາ ມີ ບຸດ ຊາຍ ຊື່ ມານາເຊ ມານາເຊ ມີ ບຸດ ຊາຍ ຊື່ ອາໂມນ ອາໂມນ ມີ ບຸດ ຊາຍ ຊື່ ໂຢຊີຢາ.',\n",
              " '11ໂຢຊີຢາ ມີ ບຸດ ຊາຍ ຊື່ ເຢໂຮຢາກິນ ກັບ ພວກ ອ້າຍ ນ້ອງ ຂອງ ຕົນ ເກີດ ໃນ ເວ ລາ ຖືກ ກວາດ ໄປ ຍັງ ກຸງບາບີໂລນ.',\n",
              " '12ຄັນ ຖືກ ກວາດ ໄປ ຍັງ ກຸງບາບີໂລນ ແລ້ວ ເຢໂຮຢາກິນ ກໍ ມີ ບຸດ ຊາຍ ຊື່ ເຊອານຕີເອນ ເຊອານຕີເອນ ມີ ບຸດ ຊາຍ ຊື່ ເຊຣຸບບາເບນ.',\n",
              " '13ເຊຣຸບບາເບນ ມີ ບຸດ ຊາຍ ຊື່ ອາບີອຸດ ອາບີອຸດ ມີ ບຸດ ຊາຍ ຊື່ ເອລີຢາກິມ ເອລີຢາກິມ ມີ ບຸດ ຊາຍ ຊື່ ອາໂຊ.',\n",
              " '14ອາໂຊ ມີ ບຸດ ຊາຍ ຊື່ ຊາໂດກ ຊາໂດກ ມີ ບຸດ ຊາຍ ຊື່ ອາຂີມ ອາຂີມ ມີ ບຸດ ຊາຍ ຊື່ ເອລີອູດ.',\n",
              " '15ເອລີອູດ ມີ ບຸດ ຊາຍ ຊື່ ເອເລອາຊາ ເອເລອາຊາ ມີ ບຸດ ຊາຍ ຊື່ ມັດທານ ມັດທານ ມີ ບຸດ ຊາຍ ຊື່ ຢາໂຄບ.',\n",
              " '16ຢາໂຄບ ມີ ບຸດ ຊາຍ ຊື່ ໂຢເຊັບ ຜູ້ ເປັນ ສາ ມີ ຂອງ ນາງ ມາຣິອາ ພຣະ ເຢຊູ ຜູ້ ທີ່ ເອີ້ນ ວ່າ ພຣະ ຄຣິດ ກໍ ຊົງ ບັງ ເກີດ ມາ ຈາກ ນາງ ມາຣິອາ ຜູ້ ນີ້.',\n",
              " '17ດັ່ງ ນັ້ນ ນັບ ຕັ້ງ ແຕ່ ອັບຣາຮາມ ລົງ ມາ ຈົນ ເຖິງ ກະສັດ ດາວິດ ຈິ່ງ ເປັນ ສິບ ສີ່ ຊົ່ວ ຄົນ ນັບ ຕັ້ງ ແຕ່ ກະສັດ ດາວິດ ຈົນ ເຖິງ ຄາວ ຖືກ ກວາດ ໄປ ຍັງ ກຸງບາບີໂລນ ເປັນ ເວ ລາ ສິບ ສີ່ ຊົ່ວ ຄົນ ແລະ ນັບ ຕັ້ງ ແຕ່ ຄາວ ຖືກ ກວາດ ໄປ ຍັງ ກຸງບາບີໂລນ ຈົນ ເຖິງ ພຣະ ຄຣິດ ເປັນ ເວ ລາ ສິບ ສີ່ ຊົ່ວ ຄົນ.ພຣະ ກຳເນີດ ຂອງ ພຣະເຢຊູຄຣິດ',\n",
              " '18ເລື່ອງ ພຣະ ກຳເນີດ ຂອງ ພຣະເຢຊູຄຣິດ ເປັນ ດັ່ງ ນີ້: ຄື ນາງ ມາຣິອາ ຜູ້ ເປັນ ມານ ດາ ຂອງ ພຣະ ເຢຊູ ນັ້ນ ໄດ້ ເປັນ ຄູ່ ໝັ້ນ ກັບ ໂຢເຊັບ ແລ້ວ ກ່ອນ ເວ ລາ ເຂົາ ໄດ້ ເປັນ ຄູ່ ຜົວ ເມຍ ກັນ ກໍ ປະ ກົດ ວ່າ ນາງ ມີ ທ້ອງ ແລ້ວ ດ້ວຍ ລິດ ເດດ ພຣະວິນຍານບໍລິສຸດ.',\n",
              " '19ຝ່າຍ ໂຢເຊັບ ຜູ້ ເປັນ ຄູ່ ໝັ້ນ ຂອງ ນາງ ເປັນ ຄົນ ມີ ສິນ ທຳ ແຕ່ ປານ ນັ້ນ ເພິ່ນ ບໍ່ ຢາກ ໃຫ້ ເລື່ອງ ນີ້ ເປັນ ທີ່ ອັບອາຍ ຂາຍໜ້າ ແກ່ ນາງ ຈິ່ງ ຕັດ ສີນ ໃຈ ວ່າ ຈະ ຖອນ ໝັ້ນ ເສຍ ຢ່າງ ລັບໆ.',\n",
              " '20ແຕ່ ເມື່ອ ໂຢເຊັບ ຍັງ ຄຶດ ໃນ ເລື່ອງ ນີ້ ຢູ່ ກໍ ມີ ເທວະດາ ຕົນ ໜຶ່ງ ຂອງ ພຣະຜູ້ ເປັນ ເຈົ້າ ມາ ປະ ກົດ ແກ່ ໂຢເຊັບ ໃນ ຄວາມຝັນ ວ່າ, “ໂຢເຊັບ ບຸດ ດາວິດ ເອີຍ, ຢ່າຊູ່ ຢ້ານ ທີ່ ຈະ ຮັບ ນາງ ມາຣິອາ ມາ ເປັນ ເມຍ ຂອງ ເຈົ້າ ເພາະ ວ່າ ຜູ້ ຊຶ່ງ ປະຕິ ສົນທິ ໃນ ທ້ອງ ຂອງ ນາງ ກໍ ເປັນ ໂດຍ ເດດ ພຣະວິນຍານບໍລິສຸດ.',\n",
              " '21ນາງ ຈະ ປະ ສູດ ບຸດ ແລ້ວ ເຈົ້າ ຈົ່ງ ຖວາຍ ນາມ ທ່ານ ວ່າ ‘ເຢຊູ’ ເພາະ ວ່າ ທ່ານ ຜູ້ ນີ້ ແຫລະ, ຈະ ເປັນ ຜູ້ ໂຜດ ໄພ່ ພົນ ຂອງ ຕົນ ໃຫ້ ລອດ ພົ້ນ ຈາກ ຄວາມ ຜິດ ບາບ ຂອງ ເຂົາ.”',\n",
              " '22ການ ທັງ ປວງ ນີ້ ເກີດ ຂຶ້ນ ເພື່ອ ຈະ ໃຫ້ ສຳ ເລັດ ຕາມ ທີ່ ພຣະຜູ້ ເປັນ ເຈົ້າ ໄດ້ ຊົງ ກ່າວ ໄວ້ ດ້ວຍ ຜູ້ປະກາດ ພຣະທຳ ວ່າ.',\n",
              " '23“ເບິ່ງ ແມ, ຍິງ ພົມ ຈະ ລີ ນັ້ນ ຈະ ມີ ທ້ອງ ແລະ ປະ ສູດ ບຸດ ຄົນ ໜຶ່ງ, ແລະ ເຂົາ ຈະ ເອີ້ນ ຊື່ ບຸດ ນັ້ນ ວ່າ ‘ເອມານູເອນ’” (ແປ ວ່າ “ພຣະເຈົ້າ ຊົງ ສະ ຖິດ ຢູ່ ກັບ ເຮົາ ທັງ ຫລາຍ”).',\n",
              " '24ເມື່ອ ໂຢເຊັບ ຕື່ນ ຂຶ້ນ ກໍ ເຮັດ ຕາມ ຄຳ ທີ່ ເທວະດາ ຂອງ ພຣະຜູ້ ເປັນ ເຈົ້າ ສັ່ງ ນັ້ນ ຄື ຮັບ ເອົາ ນາງ ມາຣິອາ ມາ ເປັນ ພັນ ລະ ຍາ ຂອງຕົນ.',\n",
              " '25ແຕ່ ບໍ່ ໄດ້ ສົມ ສູ່ ຢູ່ ກັບ ນາງ ຈົນ ປະ ສູດ ບຸດ ຊາຍ ແລ້ວ ແລະ ໂຢເຊັບ ໄດ້ ເອີ້ນ ຊື່ ບຸດ ນັ້ນ ວ່າ “ເຢຊູ”.']"
            ]
          },
          "metadata": {},
          "execution_count": 84
        }
      ]
    },
    {
      "cell_type": "code",
      "source": [
        "print(len(lo))\n",
        "lo"
      ],
      "metadata": {
        "id": "WgPBEn2lV6Nn"
      },
      "execution_count": null,
      "outputs": []
    },
    {
      "cell_type": "markdown",
      "source": [
        "multiple"
      ],
      "metadata": {
        "id": "Cwvtb2CYv602"
      }
    },
    {
      "cell_type": "code",
      "source": [
        "from bs4 import BeautifulSoup\n",
        "import requests\n",
        "import re\n",
        "\n",
        "def getLoContent(url):\n",
        "    page = requests.get(url)\n",
        "    soup = BeautifulSoup(page.content, 'html')\n",
        "    listTags = soup.tbody.find_all(class_ = [\"H\", \"V\"])\n",
        "    content = [tag.text for tag in listTags]\n",
        "\n",
        "    lo = []\n",
        "    for line in content:\n",
        "        line = line.replace('\\xa0', '')\n",
        "        line = line.replace('\\xad', '')\n",
        "        line = line.replace('\\u200b', ' ')\n",
        "        line = line.replace('\\u200c', ' ')\n",
        "\n",
        "        # Sử dụng regex để chèn dấu xuống dòng trước số\n",
        "        modified_line = re.sub(r'(\\D)(\\d)', r'\\1\\n\\2', line)\n",
        "        for sent in modified_line.splitlines():\n",
        "            lo.append(sent)\n",
        "    return mergeSentenceFromArr(lo)\n",
        "\n",
        "def mergeSentenceFromArr(arr):\n",
        "    i = 0\n",
        "    while i < len(arr) - 1:\n",
        "        if arr[i][0].isdigit():\n",
        "            j = i + 1\n",
        "            while j < len(arr) and (not arr[j][0].isdigit()):\n",
        "                arr[i] += arr[j]\n",
        "                del arr[j]\n",
        "        i += 1\n",
        "    return arr\n",
        "\n",
        "def crawl_laobible(book, fromChapter, toChapter):\n",
        "    lo = []\n",
        "    tag = '.html'\n",
        "    base = 'https://laobible.net/bible/' + book\n",
        "    for i in range(fromChapter, toChapter+1):\n",
        "        url = base + str(i) + tag\n",
        "        # print(url)\n",
        "        lo.extend(getLoContent(url))\n",
        "    return lo"
      ],
      "metadata": {
        "id": "8GJZvy3fv8-8"
      },
      "execution_count": null,
      "outputs": []
    },
    {
      "cell_type": "code",
      "source": [
        "matlo = crawl_laobible('Matthew', 1, 28)\n",
        "len(matlo)"
      ],
      "metadata": {
        "id": "8e1VuNfQxGoV",
        "colab": {
          "base_uri": "https://localhost:8080/"
        },
        "outputId": "40a32b2f-3925-419a-b4f0-446a1dd7d408"
      },
      "execution_count": null,
      "outputs": [
        {
          "output_type": "execute_result",
          "data": {
            "text/plain": [
              "1099"
            ]
          },
          "metadata": {},
          "execution_count": 111
        }
      ]
    },
    {
      "cell_type": "code",
      "source": [
        "psalmslo = crawl_laobible('Psalms', 1, 150)\n",
        "len(psalmslo)"
      ],
      "metadata": {
        "colab": {
          "base_uri": "https://localhost:8080/"
        },
        "id": "0uAaodcvsRvD",
        "outputId": "d4084080-8376-49d0-fd49-0c3cd19f44d7"
      },
      "execution_count": null,
      "outputs": [
        {
          "output_type": "execute_result",
          "data": {
            "text/plain": [
              "2612"
            ]
          },
          "metadata": {},
          "execution_count": 118
        }
      ]
    },
    {
      "cell_type": "code",
      "source": [
        "proverbslo = crawl_laobible('Proverbs', 1, 31)\n",
        "len(proverbslo)"
      ],
      "metadata": {
        "colab": {
          "base_uri": "https://localhost:8080/"
        },
        "id": "TnGShZdpuU8_",
        "outputId": "a8b643c0-e1fb-4d17-cd2d-762d3b140bff"
      },
      "execution_count": null,
      "outputs": [
        {
          "output_type": "execute_result",
          "data": {
            "text/plain": [
              "946"
            ]
          },
          "metadata": {},
          "execution_count": 119
        }
      ]
    },
    {
      "cell_type": "code",
      "source": [
        "tlo = crawl_laobible('Romans', 1, 16)\n",
        "len(tlo)"
      ],
      "metadata": {
        "colab": {
          "base_uri": "https://localhost:8080/"
        },
        "id": "bKkQ7lbzvhMt",
        "outputId": "f70f8322-c43e-4197-cec4-995043193c3a"
      },
      "execution_count": null,
      "outputs": [
        {
          "output_type": "execute_result",
          "data": {
            "text/plain": [
              "447"
            ]
          },
          "metadata": {},
          "execution_count": 6
        }
      ]
    },
    {
      "cell_type": "code",
      "source": [
        "books = [\n",
        "    ('Matthew', 1, 28),         #1099\n",
        "    ('Mark', 1, 16),            #0717\n",
        "    ('Luke', 1, 24),            #1177\n",
        "    ('John', 1, 21),            #0998\n",
        "\n",
        "    ('Psalms', 1, 150),         #2612\n",
        "    ('Proverbs', 1, 31),        #0946\n",
        "    ('Ecclesiastes', 1, 12),    #0234\n",
        "    ('Songs', 1, 8),            #0123\n",
        "\n",
        "    ('Isaiah', 1, 66),          #1352\n",
        "    ('Jeremiah', 1, 52),        #1426 #10684\n",
        "\n",
        "    ('Romans', 1, 16),          #0447\n",
        "    ('1Thessalonians', 1, 5),\n",
        "    ('2Thessalonians', 1, 3),\n",
        "    ('1Timothy', 1, 6),\n",
        "    ('2Timothy', 1, 4),\n",
        "\n",
        "    ('Titus', 1, 3),\n",
        "    ('Philemon', 1, 1),\n",
        "    ('Hebrews', 1, 13),\n",
        "    ('James', 1, 5),\n",
        "    ('1Peter', 1, 5),\n",
        "\n",
        "    ('2Peter', 1, 3),\n",
        "    ('1John', 1, 5),\n",
        "    ('2John', 1, 1),\n",
        "    ('3John', 1, 1)\n",
        "]\n",
        "book_contents = []\n",
        "lens = []\n",
        "for book in books:\n",
        "    content = crawl_laobible(book[0], book[1], book[2])\n",
        "    lens.append(len(content))\n",
        "    book_contents.extend(content)\n",
        "    # oldlen = len(book_contents)\n",
        "    # book_contents.extend(crawl_laobible(book[0], book[1], book[2]))\n",
        "    # lens.append(len(book_contents) - oldlen)\n",
        "len(book_contents)"
      ],
      "metadata": {
        "colab": {
          "base_uri": "https://localhost:8080/"
        },
        "id": "DeOZM9VXra5k",
        "outputId": "ed1891c4-03d1-4bfb-b086-31dfb0e78231"
      },
      "execution_count": null,
      "outputs": [
        {
          "output_type": "execute_result",
          "data": {
            "text/plain": [
              "12297"
            ]
          },
          "metadata": {},
          "execution_count": 4
        }
      ]
    },
    {
      "cell_type": "code",
      "source": [
        "lens"
      ],
      "metadata": {
        "colab": {
          "base_uri": "https://localhost:8080/"
        },
        "id": "SQkvqNlHhueq",
        "outputId": "2c6bf742-1ba6-45ca-ac7c-8a4d10b9865e"
      },
      "execution_count": null,
      "outputs": [
        {
          "output_type": "execute_result",
          "data": {
            "text/plain": [
              "[1099,\n",
              " 717,\n",
              " 1177,\n",
              " 998,\n",
              " 2612,\n",
              " 946,\n",
              " 234,\n",
              " 123,\n",
              " 1352,\n",
              " 1426,\n",
              " 447,\n",
              " 92,\n",
              " 49,\n",
              " 117,\n",
              " 99,\n",
              " 48,\n",
              " 25,\n",
              " 314,\n",
              " 112,\n",
              " 109,\n",
              " 63,\n",
              " 110,\n",
              " 13,\n",
              " 15]"
            ]
          },
          "metadata": {},
          "execution_count": 5
        }
      ]
    },
    {
      "cell_type": "code",
      "source": [
        "with open(\"bible.lo\", \"w\", encoding=\"utf-8\") as file:\n",
        "    for line in book_contents:\n",
        "        file.write(line + \"\\n\")"
      ],
      "metadata": {
        "id": "cp4yEqVi0wZu"
      },
      "execution_count": null,
      "outputs": []
    },
    {
      "cell_type": "markdown",
      "source": [
        "vi"
      ],
      "metadata": {
        "id": "aiIl-evFy7lw"
      }
    },
    {
      "cell_type": "code",
      "source": [
        "from bs4 import BeautifulSoup\n",
        "import requests\n",
        "\n",
        "url = 'https://www.bible.com/vi/bible/449/MAT.1.NVB'\n",
        "\n",
        "page = requests.get(url)\n",
        "\n",
        "soup = BeautifulSoup(page.content, 'html')\n",
        "\n",
        "print(type(soup))\n",
        "print(soup.prettify())"
      ],
      "metadata": {
        "id": "Ex42y__gfmaD"
      },
      "execution_count": null,
      "outputs": []
    },
    {
      "cell_type": "code",
      "source": [
        "import re\n",
        "vi = []\n",
        "listTags = soup.find(class_ = \"ChapterContent_chapter__uvbXo\").find_all('span')\n",
        "count = 0\n",
        "for tag in listTags:\n",
        "    for child in tag.children:\n",
        "        text = child.text\n",
        "        ### loại những dòng bị lặp và những dòng trống\n",
        "        if (child.name == None and text not in [\" \"]):\n",
        "            ### xóa note\n",
        "            if (text == \"#\" or (count > 0 and count < 3)):\n",
        "                count += 1\n",
        "                if (count == 3):\n",
        "                    count = 0\n",
        "                # print(\"count\", count)\n",
        "                continue\n",
        "            ### xóa trích dẫn nếu có chương có nội dung tương tự\n",
        "            if re.compile(r'\\d+:\\d+').search(text) is not None:\n",
        "                continue\n",
        "            vi.append(text)\n",
        "\n",
        "def mergeSentenceFromArr(arr):\n",
        "    i = 0\n",
        "    while i < len(arr) - 1:\n",
        "        if arr[i][0].isdigit():\n",
        "            j = i + 1\n",
        "            while j < len(arr) and (not arr[j][0].isdigit()):\n",
        "                arr[i] += arr[j]\n",
        "                del arr[j]\n",
        "        i += 1\n",
        "    return arr\n",
        "\n",
        "mergeSentenceFromArr(vi)"
      ],
      "metadata": {
        "colab": {
          "base_uri": "https://localhost:8080/"
        },
        "id": "bGsqgf4kKhVv",
        "outputId": "2c8ecaf9-0a8c-4498-9ef7-318bd31bcd73"
      },
      "execution_count": null,
      "outputs": [
        {
          "output_type": "execute_result",
          "data": {
            "text/plain": [
              "['Gia Phổ Của Chúa Cứu Thế Giê-su ',\n",
              " '1Gia phổ của Chúa Cứu Thế Giê-su, dòng dõi Đa-vít, con cháu Áp-ra-ham.',\n",
              " '2Áp-ra-ham sinh Y-sác, Y-sác sinh Gia-cốp, Gia-cốp sinh Giu-đa và anh em người, ',\n",
              " '3Giu-đa sinh Pha-rê và Xa-ra mẹ là Tha-ma, Pha-rê sinh Ếch-rôm, Ếch-rôm sinh A-ram, ',\n",
              " '4A-ram sinh A-mi-na-đáp, A-mi-na-đáp sinh Na-ách-son, Na-ách-son sinh Sanh-môn, ',\n",
              " '5Sanh-môn sinh Bô-ô mẹ là Ra-háp, Bô-ô sinh Ô-bết mẹ là Ru-tơ, Ô-bết sinh Gie-sê, ',\n",
              " '6Gie-sê sinh vua Đa-vít, Đa-vít sinh Sa-lô-môn, mẹ nguyên là vợ U-ri, ',\n",
              " '7Sa-lô-môn sinh Rô-bô-am, Rô-bô-am sinh A-bi-gia, A-bi-gia sinh A-sa, ',\n",
              " '8A-sa sinh Giô-sa-phát, Giô-sa-phát sinh Giô-ram, Giô-ram sinh Ô-xia, ',\n",
              " '9Ô-xia sinh Giô-tam, Giô-tam sinh A-cha, A-cha sinh Ê-xê-chia, ',\n",
              " '10Ê-xê-chia sinh Ma-na-se, Ma-na-se sinh A-môn, A-môn sinh Giô-si-a, ',\n",
              " '11Giô-si-a sinh Giê-cô-nia và các em người lúc bị lưu đày tại Ba-by-lôn. ',\n",
              " '12Sau khi bị lưu đày tại Ba-by-lôn, Giê-cô-nia sinh Sa-la-thi-ên, Sa-la-thi-ên sinh Xô-rô-ba-bên, ',\n",
              " '13Xô-rô-ba-bên sinh A-bi-út, A-bi-út sinh Ê-li-a-kim, Ê-li-a-kim sinh A-xô, ',\n",
              " '14A-xô sinh Sa-đốc, Sa-đốc sinh A-chim, A-chim sinh Ê-li-út, ',\n",
              " '15Ê-li-út sinh Ê-li-a-xa, Ê-li-a-xa sinh Ma-than, Ma-than sinh Gia-cốp, ',\n",
              " '16Gia-cốp sinh Giô-sép, chồng của Ma-ri. Ma-ri sinh Đức Giê-su, Chúa Cứu Thế. ',\n",
              " '17Như thế từ Áp-ra-ham cho đến Đa-vít kể tất cả là mười bốn đời, từ Đa-vít cho đến khi bị lưu đày qua Ba-by-lôn được mười bốn đời, và từ lúc lưu đày tại Ba-by-lôn cho đến Chúa Cứu Thế cũng mười bốn đời. Câu Chuyện Giáng Sinh Của Chúa Cứu Thế Giê-su ',\n",
              " '18Sự giáng sinh của Chúa Cứu Thế Giê-su đã xảy ra như sau: Ma-ri, mẹ Ngài, đã đính hôn cùng Giô-sép, nhưng trước khi hai người chung sống, Ma-ri đã thụ thai do quyền phép Đức Thánh Linh. ',\n",
              " '19Giô-sép, chồng hứa của nàng là người có tình nghĩa, không muốn nàng bị bêu xấu, nên định âm thầm từ hôn. ',\n",
              " '20Đang khi ông suy tính như vậy, một thiên sứ của Chúa hiện đến trong giấc mộng và bảo: “Này Giô-sép, con cháu Đa-vít, đừng ngại cưới Ma-ri làm vợ vì thai nàng đang mang là bởi Đức Thánh Linh. ',\n",
              " '21Nàng sẽ sinh một trai, hãy đặt tên là Giê-su, vì Ngài sẽ cứu dân tộc mình thoát khỏi tội lỗi.” ',\n",
              " '22Mọi việc đã xảy đến như thế để lời Chúa phán qua nhà tiên tri được ứng nghiệm: ',\n",
              " '23“Này, một trinh nữ sẽ mang thai và sinh một trai. Người ta sẽ đặt tên Ngài là Em-ma-nu-ên,”Nghĩa là: Đức Chúa Trời ở cùng chúng ta. ',\n",
              " '24Giô-sép thức dậy, làm theo lời thiên sứ của Chúa đã dặn bảo, cưới Ma-ri về làm vợ, ',\n",
              " '25nhưng hai người không ăn ở với nhau cho đến khi nàng sinh một con trai, và đặt tên là Giê-su. ']"
            ]
          },
          "metadata": {},
          "execution_count": 29
        }
      ]
    },
    {
      "cell_type": "markdown",
      "source": [
        "vi_multiple"
      ],
      "metadata": {
        "id": "3SIHnw93ePQd"
      }
    },
    {
      "cell_type": "code",
      "source": [
        "from bs4 import BeautifulSoup\n",
        "import requests\n",
        "\n",
        "import re\n",
        "\n",
        "def getViContent(url):\n",
        "    # url = 'https://www.bible.com/vi/bible/449/MAT.1.NVB'\n",
        "    page = requests.get(url)\n",
        "    soup = BeautifulSoup(page.content, 'html')\n",
        "    vi = []\n",
        "    listTags = soup.find(class_ = \"ChapterContent_chapter__uvbXo\").find_all('span')\n",
        "    ### count để xóa note\n",
        "    count = 0\n",
        "    for tag in listTags:\n",
        "        for child in tag.children:\n",
        "            text = child.text\n",
        "            ### loại những dòng bị lặp và những dòng trống\n",
        "            if (child.name == None and text not in [\" \"]):\n",
        "                ### xóa note\n",
        "                if (text == \"#\" or (count > 0 and count < 3)):\n",
        "                    count += 1\n",
        "                    if (count == 3):\n",
        "                        count = 0\n",
        "                    # print(\"count\", count)\n",
        "                    continue\n",
        "                ### xóa trích dẫn nếu có chương có nội dung tương tự\n",
        "                if re.compile(r'\\d+:\\d+').search(text) is not None:\n",
        "                    continue\n",
        "                vi.append(text)\n",
        "    return mergeSentenceFromArr(vi)\n",
        "\n",
        "def mergeSentenceFromArr(arr):\n",
        "    i = 0\n",
        "    while i < len(arr) - 1:\n",
        "        if arr[i][0].isdigit():\n",
        "            j = i + 1\n",
        "            while j < len(arr) and (not arr[j][0].isdigit()):\n",
        "                arr[i] += arr[j]\n",
        "                del arr[j]\n",
        "        i += 1\n",
        "    return arr\n",
        "\n",
        "def crawl_vibible(book, fromChapter, toChapter):\n",
        "    vi = []\n",
        "    tag = '.NVB'\n",
        "    base = 'https://www.bible.com/vi/bible/449/' + book + \".\"\n",
        "    for i in range(fromChapter, toChapter+1):\n",
        "        url = base + str(i) + tag\n",
        "        # print(url)\n",
        "        vi.extend(getViContent(url))\n",
        "    return vi"
      ],
      "metadata": {
        "id": "YHvR0lebbVNP"
      },
      "execution_count": null,
      "outputs": []
    },
    {
      "cell_type": "code",
      "source": [
        "matvi = crawl_vibible('MAT', 1, 28)\n",
        "len(matvi)"
      ],
      "metadata": {
        "id": "_dTiTI_gfTJA"
      },
      "execution_count": null,
      "outputs": []
    },
    {
      "cell_type": "code",
      "source": [
        "books_vi = [\n",
        "    ('MAT', 1, 28),         #1099\n",
        "    ('MRK', 1, 16),         #0717\n",
        "    ('LUK', 1, 24),         #1177\n",
        "    ('JHN', 1, 21),         #0998\n",
        "\n",
        "    ('PSA', 1, 150),        #2612\n",
        "    ('PRO', 1, 31),         #0946\n",
        "    ('ECC', 1, 12),         #0234\n",
        "    ('SNG', 1, 8),          #0123\n",
        "\n",
        "    ('ISA', 1, 66),         #1352\n",
        "    ('JER', 1, 52),         #1426 #10684\n",
        "\n",
        "    ('ROM', 1, 16),         #0447\n",
        "    ('1TH', 1, 5),\n",
        "    ('2TH', 1, 3),\n",
        "    ('1TI', 1, 6),\n",
        "    ('2TI', 1, 4),\n",
        "    ('TIT', 1, 3),\n",
        "    ('PHM', 1, 1),\n",
        "    ('HEB', 1, 13),\n",
        "    ('JAS', 1, 5),\n",
        "    ('1PE', 1, 5),\n",
        "    ('2PE', 1, 3),\n",
        "    ('1JN', 1, 5),\n",
        "    ('2JN', 1, 1),\n",
        "    ('3JN', 1, 1)\n",
        "]\n",
        "book_contents_vi = []\n",
        "lens_vi = []\n",
        "for book in books_vi:\n",
        "    content = crawl_vibible(book[0], book[1], book[2])\n",
        "    lens_vi.append(len(content))\n",
        "    book_contents_vi.extend(content)\n",
        "len(book_contents_vi)"
      ],
      "metadata": {
        "colab": {
          "base_uri": "https://localhost:8080/"
        },
        "id": "8mr7N-4YbUIU",
        "outputId": "2a8124f9-d69a-45cf-99fe-9dcf88670280"
      },
      "execution_count": null,
      "outputs": [
        {
          "output_type": "execute_result",
          "data": {
            "text/plain": [
              "24426"
            ]
          },
          "metadata": {},
          "execution_count": 24
        }
      ]
    },
    {
      "cell_type": "code",
      "source": [
        "print(lens)\n",
        "print(lens_vi)"
      ],
      "metadata": {
        "colab": {
          "base_uri": "https://localhost:8080/"
        },
        "id": "wZzzRhp5iAuN",
        "outputId": "bd93d07e-2ec0-4dbd-c4c9-59510ab68118"
      },
      "execution_count": null,
      "outputs": [
        {
          "output_type": "stream",
          "name": "stdout",
          "text": [
            "[1099, 717, 1177, 998, 2612, 946, 234, 123, 1352, 1426, 447, 92, 49, 117, 99, 48, 25, 314, 112, 109, 63, 110, 13, 15]\n",
            "[1097, 694, 1173, 898, 2627, 928, 231, 125, 1345, 1413, 445, 94, 50, 118, 86, 48, 26, 311, 111, 110, 64, 108, 13, 14]\n"
          ]
        }
      ]
    },
    {
      "cell_type": "code",
      "source": [
        "sum = 0\n",
        "for len in lens:\n",
        "    sum += len\n",
        "sum"
      ],
      "metadata": {
        "colab": {
          "base_uri": "https://localhost:8080/"
        },
        "id": "hGUEQc1coUz2",
        "outputId": "495a7b71-ef3d-4022-a3e9-54a4f3028eef"
      },
      "execution_count": null,
      "outputs": [
        {
          "output_type": "execute_result",
          "data": {
            "text/plain": [
              "12297"
            ]
          },
          "metadata": {},
          "execution_count": 33
        }
      ]
    },
    {
      "cell_type": "code",
      "source": [
        "sum = 0\n",
        "for len in lens_vi:\n",
        "    sum += len\n",
        "sum"
      ],
      "metadata": {
        "colab": {
          "base_uri": "https://localhost:8080/"
        },
        "id": "5T88Rqd4oksU",
        "outputId": "6229a0d6-1370-42d0-91c2-8458e5f24ae4"
      },
      "execution_count": null,
      "outputs": [
        {
          "output_type": "execute_result",
          "data": {
            "text/plain": [
              "12129"
            ]
          },
          "metadata": {},
          "execution_count": 34
        }
      ]
    },
    {
      "cell_type": "code",
      "source": [
        "with open(\"bible.vi\", \"w\", encoding=\"utf-8\") as file:\n",
        "    for line in book_contents:\n",
        "        file.write(line + \"\\n\")"
      ],
      "metadata": {
        "id": "fBV2n2-BaLM1"
      },
      "execution_count": null,
      "outputs": []
    }
  ]
}